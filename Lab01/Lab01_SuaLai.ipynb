{
  "nbformat": 4,
  "nbformat_minor": 0,
  "metadata": {
    "colab": {
      "name": "Lab01_SuaLai.ipynb",
      "provenance": [],
      "collapsed_sections": [],
      "authorship_tag": "ABX9TyPNKSnrmrJA5BlpldDSNDt5",
      "include_colab_link": true
    },
    "kernelspec": {
      "name": "python3",
      "display_name": "Python 3"
    },
    "language_info": {
      "name": "python"
    }
  },
  "cells": [
    {
      "cell_type": "markdown",
      "metadata": {
        "id": "view-in-github",
        "colab_type": "text"
      },
      "source": [
        "<a href=\"https://colab.research.google.com/github/Hung621/DataAnalystDeepLearning/blob/main/Lab01/Lab01_SuaLai.ipynb\" target=\"_parent\"><img src=\"https://colab.research.google.com/assets/colab-badge.svg\" alt=\"Open In Colab\"/></a>"
      ]
    },
    {
      "cell_type": "markdown",
      "metadata": {
        "id": "-SXLFPHZ6JfJ"
      },
      "source": [
        "Lab1"
      ]
    },
    {
      "cell_type": "code",
      "metadata": {
        "colab": {
          "base_uri": "https://localhost:8080/"
        },
        "id": "kErh_Uz45-D5",
        "outputId": "07f9920e-26fe-4a79-ec00-d77a6a27c7e4"
      },
      "source": [
        "import pandas as pd\n",
        "df = pd.read_csv(\"https://raw.githubusercontent.com/huynhhoc/DataAnalystDeepLearning/main/Data/dulieuxettuyendaihoc.csv\", index_col = \"STT\")\n",
        "print(df)"
      ],
      "execution_count": null,
      "outputs": [
        {
          "output_type": "stream",
          "name": "stdout",
          "text": [
            "      T1   L1   H1   S1   V1   X1   D1  ...  GT  DT   KV   DH1   DH2   DH3  KT\n",
            "STT                                     ...                                   \n",
            "1    7.2  7.3  6.3  7.3  7.0  7.9  7.3  ...   F NaN  2NT  3.25  3.25  4.50  A1\n",
            "2    5.4  3.9  3.9  4.0  5.4  5.4  5.3  ...   M NaN    1  6.00  4.00  3.50   C\n",
            "3    5.6  6.8  7.2  7.5  4.3  7.4  5.8  ...   M NaN    1  5.00  6.75  4.00   C\n",
            "4    6.6  6.4  5.3  6.9  5.4  7.3  6.4  ...   M NaN    1  4.25  4.25  5.25  D1\n",
            "5    6.0  5.0  6.0  7.3  6.5  7.7  7.9  ...   M NaN  2NT  4.25  4.50  5.00   A\n",
            "..   ...  ...  ...  ...  ...  ...  ...  ...  ..  ..  ...   ...   ...   ...  ..\n",
            "96   8.6  6.9  7.4  8.8  7.6  5.8  7.3  ...   F NaN    1  5.25  1.50  6.25   C\n",
            "97   3.7  5.4  6.0  5.1  5.5  3.9  6.1  ...   F NaN    1  5.25  3.75  4.75   C\n",
            "98   8.8  5.5  7.4  7.7  6.2  7.3  8.1  ...   M NaN  2NT  7.00  8.00  4.00   C\n",
            "99   2.7  1.8  3.4  5.3  4.5  7.9  4.9  ...   M NaN    1  5.00  3.50  5.50   C\n",
            "100  4.1  5.2  4.9  5.3  5.5  5.4  7.2  ...   M NaN  2NT  5.25  2.50  4.25   C\n",
            "\n",
            "[100 rows x 55 columns]\n"
          ]
        }
      ]
    },
    {
      "cell_type": "code",
      "metadata": {
        "id": "SaZrMAa1qL4q",
        "colab": {
          "base_uri": "https://localhost:8080/"
        },
        "outputId": "37659e61-d1f8-4f39-807a-58d15cf1ffb2"
      },
      "source": [
        "def fill(col):\n",
        "  return df[col].fillna(df[col], inplace = True)\n",
        "print(df.dtypes)"
      ],
      "execution_count": null,
      "outputs": [
        {
          "output_type": "stream",
          "name": "stdout",
          "text": [
            "T1     float64\n",
            "L1     float64\n",
            "H1     float64\n",
            "S1     float64\n",
            "V1     float64\n",
            "X1     float64\n",
            "D1     float64\n",
            "N1     float64\n",
            "T2     float64\n",
            "L2     float64\n",
            "H2     float64\n",
            "S2     float64\n",
            "V2     float64\n",
            "X2     float64\n",
            "D2     float64\n",
            "N2     float64\n",
            "T3     float64\n",
            "L3     float64\n",
            "H3     float64\n",
            "S3     float64\n",
            "V3     float64\n",
            "X3     float64\n",
            "D3     float64\n",
            "N3     float64\n",
            "T4     float64\n",
            "L4     float64\n",
            "H4     float64\n",
            "S4     float64\n",
            "V4     float64\n",
            "X4     float64\n",
            "D4     float64\n",
            "N4     float64\n",
            "T5     float64\n",
            "L5     float64\n",
            "H5     float64\n",
            "S5     float64\n",
            "V5     float64\n",
            "X5     float64\n",
            "D5     float64\n",
            "N5     float64\n",
            "T6     float64\n",
            "L6     float64\n",
            "H6     float64\n",
            "S6     float64\n",
            "V6     float64\n",
            "X6     float64\n",
            "D6     float64\n",
            "N6     float64\n",
            "GT      object\n",
            "DT     float64\n",
            "KV      object\n",
            "DH1    float64\n",
            "DH2    float64\n",
            "DH3    float64\n",
            "KT      object\n",
            "dtype: object\n"
          ]
        }
      ]
    },
    {
      "cell_type": "markdown",
      "metadata": {
        "id": "ex_M6u0PsURN"
      },
      "source": [
        "3.Sử dụng Python để tải dữ liệu lên chương trình và in ra màn hình 10 dòng đầu tiên và 10 dòng cuối cùng"
      ]
    },
    {
      "cell_type": "code",
      "metadata": {
        "colab": {
          "base_uri": "https://localhost:8080/"
        },
        "id": "EO00eu5CsbNe",
        "outputId": "b9811d18-21e3-430f-d50e-6d990101d7a2"
      },
      "source": [
        "print(df.head(10))"
      ],
      "execution_count": null,
      "outputs": [
        {
          "output_type": "stream",
          "name": "stdout",
          "text": [
            "      T1   L1   H1   S1   V1   X1   D1  ...  GT  DT   KV   DH1   DH2   DH3  KT\n",
            "STT                                     ...                                   \n",
            "1    7.2  7.3  6.3  7.3  7.0  7.9  7.3  ...   F NaN  2NT  3.25  3.25  4.50  A1\n",
            "2    5.4  3.9  3.9  4.0  5.4  5.4  5.3  ...   M NaN    1  6.00  4.00  3.50   C\n",
            "3    5.6  6.8  7.2  7.5  4.3  7.4  5.8  ...   M NaN    1  5.00  6.75  4.00   C\n",
            "4    6.6  6.4  5.3  6.9  5.4  7.3  6.4  ...   M NaN    1  4.25  4.25  5.25  D1\n",
            "5    6.0  5.0  6.0  7.3  6.5  7.7  7.9  ...   M NaN  2NT  4.25  4.50  5.00   A\n",
            "6    9.3  7.6  7.9  8.6  7.0  7.3  7.7  ...   M NaN    1  1.50  4.00  6.00  D1\n",
            "7    2.8  3.9  5.5  6.9  5.0  7.3  4.6  ...   F NaN    2  6.50  6.75  5.25   C\n",
            "8    8.3  6.0  7.6  5.1  7.5  4.7  5.8  ...   F NaN    2  3.75  4.50  4.25  D1\n",
            "9    6.5  6.3  7.6  6.0  5.5  7.1  6.3  ...   F NaN    1  3.50  3.50  6.75  D1\n",
            "10   7.3  5.9  4.7  7.1  6.7  7.9  6.7  ...   F NaN    1  4.00  4.75  5.50  D1\n",
            "\n",
            "[10 rows x 55 columns]\n"
          ]
        }
      ]
    },
    {
      "cell_type": "code",
      "metadata": {
        "colab": {
          "base_uri": "https://localhost:8080/"
        },
        "id": "AwvbwSaLlLWP",
        "outputId": "2a81466a-96c5-4036-a2a3-94bba3468641"
      },
      "source": [
        "print(df.tail(10))"
      ],
      "execution_count": null,
      "outputs": [
        {
          "output_type": "stream",
          "name": "stdout",
          "text": [
            "      T1   L1   H1   S1   V1   X1   D1  ...  GT  DT   KV   DH1   DH2   DH3  KT\n",
            "STT                                     ...                                   \n",
            "91   8.1  7.7  9.1  8.5  6.1  8.6  8.8  ...   M NaN    2  6.25  4.00  6.50   A\n",
            "92   7.8  6.5  6.7  5.4  6.2  4.8  5.9  ...   M NaN  2NT  4.75  4.75  4.50   A\n",
            "93   5.0  6.6  6.5  7.2  5.8  6.7  6.4  ...   M NaN    1  3.25  5.25  4.25   A\n",
            "94   5.2  5.2  6.8  7.9  6.6  8.9  7.6  ...   M NaN    1  3.50  4.25  5.00   A\n",
            "95   5.8  5.9  7.6  6.1  5.3  8.1  6.1  ...   M NaN    1  4.25  2.50  4.75   A\n",
            "96   8.6  6.9  7.4  8.8  7.6  5.8  7.3  ...   F NaN    1  5.25  1.50  6.25   C\n",
            "97   3.7  5.4  6.0  5.1  5.5  3.9  6.1  ...   F NaN    1  5.25  3.75  4.75   C\n",
            "98   8.8  5.5  7.4  7.7  6.2  7.3  8.1  ...   M NaN  2NT  7.00  8.00  4.00   C\n",
            "99   2.7  1.8  3.4  5.3  4.5  7.9  4.9  ...   M NaN    1  5.00  3.50  5.50   C\n",
            "100  4.1  5.2  4.9  5.3  5.5  5.4  7.2  ...   M NaN  2NT  5.25  2.50  4.25   C\n",
            "\n",
            "[10 rows x 55 columns]\n"
          ]
        }
      ]
    },
    {
      "cell_type": "markdown",
      "metadata": {
        "id": "QvbPUT881FH9"
      },
      "source": [
        "4.Thống kê dữ liệu thiếu cho cột dân tộc và hiệu chỉnh dữ liệu thiếu như sau: Mặc định thiếu thì điền giá trị 0."
      ]
    },
    {
      "cell_type": "code",
      "metadata": {
        "colab": {
          "base_uri": "https://localhost:8080/"
        },
        "id": "i5cJ3VEO1Fe0",
        "outputId": "ebf63681-b3d4-4772-e2f4-e67014e410b6"
      },
      "source": [
        "df['DT'].fillna(0, inplace = True)\n",
        "print(df)"
      ],
      "execution_count": null,
      "outputs": [
        {
          "output_type": "stream",
          "name": "stdout",
          "text": [
            "      T1   L1   H1   S1   V1   X1   D1  ...  GT   DT   KV   DH1   DH2   DH3  KT\n",
            "STT                                     ...                                    \n",
            "1    7.2  7.3  6.3  7.3  7.0  7.9  7.3  ...   F  0.0  2NT  3.25  3.25  4.50  A1\n",
            "2    5.4  3.9  3.9  4.0  5.4  5.4  5.3  ...   M  0.0    1  6.00  4.00  3.50   C\n",
            "3    5.6  6.8  7.2  7.5  4.3  7.4  5.8  ...   M  0.0    1  5.00  6.75  4.00   C\n",
            "4    6.6  6.4  5.3  6.9  5.4  7.3  6.4  ...   M  0.0    1  4.25  4.25  5.25  D1\n",
            "5    6.0  5.0  6.0  7.3  6.5  7.7  7.9  ...   M  0.0  2NT  4.25  4.50  5.00   A\n",
            "..   ...  ...  ...  ...  ...  ...  ...  ...  ..  ...  ...   ...   ...   ...  ..\n",
            "96   8.6  6.9  7.4  8.8  7.6  5.8  7.3  ...   F  0.0    1  5.25  1.50  6.25   C\n",
            "97   3.7  5.4  6.0  5.1  5.5  3.9  6.1  ...   F  0.0    1  5.25  3.75  4.75   C\n",
            "98   8.8  5.5  7.4  7.7  6.2  7.3  8.1  ...   M  0.0  2NT  7.00  8.00  4.00   C\n",
            "99   2.7  1.8  3.4  5.3  4.5  7.9  4.9  ...   M  0.0    1  5.00  3.50  5.50   C\n",
            "100  4.1  5.2  4.9  5.3  5.5  5.4  7.2  ...   M  0.0  2NT  5.25  2.50  4.25   C\n",
            "\n",
            "[100 rows x 55 columns]\n"
          ]
        }
      ]
    },
    {
      "cell_type": "markdown",
      "metadata": {
        "id": "yP4ML6VqoGic"
      },
      "source": [
        "5.Thống kê dữ liệu thiếu cho biến T1 và hiệu chỉnh dữ liệu, lưu ý việc thay thế dữ liệu thiếu sử\n",
        "dụng phương pháp Mean."
      ]
    },
    {
      "cell_type": "code",
      "metadata": {
        "colab": {
          "base_uri": "https://localhost:8080/"
        },
        "id": "Xn1vh-IgoJw0",
        "outputId": "77e898f7-7cf2-4af7-b7a3-45c2c2298c38"
      },
      "source": [
        "df[\"T1\"].fillna(df[\"T1\"].mean(), inplace =True)\n",
        "print(df)"
      ],
      "execution_count": null,
      "outputs": [
        {
          "output_type": "stream",
          "name": "stdout",
          "text": [
            "      T1   L1   H1   S1   V1   X1   D1  ...  GT   DT   KV   DH1   DH2   DH3  KT\n",
            "STT                                     ...                                    \n",
            "1    7.2  7.3  6.3  7.3  7.0  7.9  7.3  ...   F  0.0  2NT  3.25  3.25  4.50  A1\n",
            "2    5.4  3.9  3.9  4.0  5.4  5.4  5.3  ...   M  0.0    1  6.00  4.00  3.50   C\n",
            "3    5.6  6.8  7.2  7.5  4.3  7.4  5.8  ...   M  0.0    1  5.00  6.75  4.00   C\n",
            "4    6.6  6.4  5.3  6.9  5.4  7.3  6.4  ...   M  0.0    1  4.25  4.25  5.25  D1\n",
            "5    6.0  5.0  6.0  7.3  6.5  7.7  7.9  ...   M  0.0  2NT  4.25  4.50  5.00   A\n",
            "..   ...  ...  ...  ...  ...  ...  ...  ...  ..  ...  ...   ...   ...   ...  ..\n",
            "96   8.6  6.9  7.4  8.8  7.6  5.8  7.3  ...   F  0.0    1  5.25  1.50  6.25   C\n",
            "97   3.7  5.4  6.0  5.1  5.5  3.9  6.1  ...   F  0.0    1  5.25  3.75  4.75   C\n",
            "98   8.8  5.5  7.4  7.7  6.2  7.3  8.1  ...   M  0.0  2NT  7.00  8.00  4.00   C\n",
            "99   2.7  1.8  3.4  5.3  4.5  7.9  4.9  ...   M  0.0    1  5.00  3.50  5.50   C\n",
            "100  4.1  5.2  4.9  5.3  5.5  5.4  7.2  ...   M  0.0  2NT  5.25  2.50  4.25   C\n",
            "\n",
            "[100 rows x 55 columns]\n"
          ]
        }
      ]
    },
    {
      "cell_type": "markdown",
      "metadata": {
        "id": "kH7rOPE8oc8Z"
      },
      "source": [
        "6.Hãy thực hiện xử lý lần lượt tất cả dữ liệu thiếu cho các biến về điểm số còn lại"
      ]
    },
    {
      "cell_type": "code",
      "metadata": {
        "id": "8fNfPkW9pEfV"
      },
      "source": [
        "is_float64 = df.dtypes == float\n",
        "df_column_list = df.columns[is_float64].tolist()"
      ],
      "execution_count": null,
      "outputs": []
    },
    {
      "cell_type": "code",
      "metadata": {
        "colab": {
          "base_uri": "https://localhost:8080/"
        },
        "id": "cDYDzhLGpHGq",
        "outputId": "cbbb671a-76ce-417e-8d49-3045b9c59873"
      },
      "source": [
        "df_column_list"
      ],
      "execution_count": null,
      "outputs": [
        {
          "output_type": "execute_result",
          "data": {
            "text/plain": [
              "['T1',\n",
              " 'L1',\n",
              " 'H1',\n",
              " 'S1',\n",
              " 'V1',\n",
              " 'X1',\n",
              " 'D1',\n",
              " 'N1',\n",
              " 'T2',\n",
              " 'L2',\n",
              " 'H2',\n",
              " 'S2',\n",
              " 'V2',\n",
              " 'X2',\n",
              " 'D2',\n",
              " 'N2',\n",
              " 'T3',\n",
              " 'L3',\n",
              " 'H3',\n",
              " 'S3',\n",
              " 'V3',\n",
              " 'X3',\n",
              " 'D3',\n",
              " 'N3',\n",
              " 'T4',\n",
              " 'L4',\n",
              " 'H4',\n",
              " 'S4',\n",
              " 'V4',\n",
              " 'X4',\n",
              " 'D4',\n",
              " 'N4',\n",
              " 'T5',\n",
              " 'L5',\n",
              " 'H5',\n",
              " 'S5',\n",
              " 'V5',\n",
              " 'X5',\n",
              " 'D5',\n",
              " 'N5',\n",
              " 'T6',\n",
              " 'L6',\n",
              " 'H6',\n",
              " 'S6',\n",
              " 'V6',\n",
              " 'X6',\n",
              " 'D6',\n",
              " 'N6',\n",
              " 'DT',\n",
              " 'DH1',\n",
              " 'DH2',\n",
              " 'DH3']"
            ]
          },
          "metadata": {},
          "execution_count": 8
        }
      ]
    },
    {
      "cell_type": "code",
      "metadata": {
        "colab": {
          "base_uri": "https://localhost:8080/"
        },
        "id": "_HCiXgk2of-c",
        "outputId": "722056ed-56b6-4872-e5e4-94a229d3e889"
      },
      "source": [
        "for col in df_column_list:\n",
        "  df[col].fillna(df[col].mean(), inplace =True)\n",
        "print(df)"
      ],
      "execution_count": null,
      "outputs": [
        {
          "output_type": "stream",
          "name": "stdout",
          "text": [
            "      T1   L1   H1   S1   V1   X1   D1  ...  GT   DT   KV   DH1   DH2   DH3  KT\n",
            "STT                                     ...                                    \n",
            "1    7.2  7.3  6.3  7.3  7.0  7.9  7.3  ...   F  0.0  2NT  3.25  3.25  4.50  A1\n",
            "2    5.4  3.9  3.9  4.0  5.4  5.4  5.3  ...   M  0.0    1  6.00  4.00  3.50   C\n",
            "3    5.6  6.8  7.2  7.5  4.3  7.4  5.8  ...   M  0.0    1  5.00  6.75  4.00   C\n",
            "4    6.6  6.4  5.3  6.9  5.4  7.3  6.4  ...   M  0.0    1  4.25  4.25  5.25  D1\n",
            "5    6.0  5.0  6.0  7.3  6.5  7.7  7.9  ...   M  0.0  2NT  4.25  4.50  5.00   A\n",
            "..   ...  ...  ...  ...  ...  ...  ...  ...  ..  ...  ...   ...   ...   ...  ..\n",
            "96   8.6  6.9  7.4  8.8  7.6  5.8  7.3  ...   F  0.0    1  5.25  1.50  6.25   C\n",
            "97   3.7  5.4  6.0  5.1  5.5  3.9  6.1  ...   F  0.0    1  5.25  3.75  4.75   C\n",
            "98   8.8  5.5  7.4  7.7  6.2  7.3  8.1  ...   M  0.0  2NT  7.00  8.00  4.00   C\n",
            "99   2.7  1.8  3.4  5.3  4.5  7.9  4.9  ...   M  0.0    1  5.00  3.50  5.50   C\n",
            "100  4.1  5.2  4.9  5.3  5.5  5.4  7.2  ...   M  0.0  2NT  5.25  2.50  4.25   C\n",
            "\n",
            "[100 rows x 55 columns]\n"
          ]
        }
      ]
    },
    {
      "cell_type": "markdown",
      "metadata": {
        "id": "qPEo6i6Apr1U"
      },
      "source": [
        "7.   Tạo các biến TBM1, TBM2, TBM3 tương ứng với trung bình môn của các năm lớp 10, 11 và 12."
      ]
    },
    {
      "cell_type": "code",
      "metadata": {
        "id": "qoyH79bjpbP1"
      },
      "source": [
        "#Công thức tính: TBM = (T*2 + L + H + S + V*2 + X + D + N) / 10"
      ],
      "execution_count": null,
      "outputs": []
    },
    {
      "cell_type": "code",
      "metadata": {
        "id": "0hUCnBo1qOXG"
      },
      "source": [
        "for i in ['1', '2', '6']:\n",
        "  df['TBM' + i] = (df['T'+i] * 2 + df['L' + i] + df['H' + i] + df['S' + i] + df['V' + i] * 2 + df['X' + i] + df['D' + i] + df['N' + i]) / 10"
      ],
      "execution_count": null,
      "outputs": []
    },
    {
      "cell_type": "code",
      "metadata": {
        "id": "lDXyLkp2qdqb"
      },
      "source": [
        "df.rename(columns={\"TBM6\":\"TBM3\"}, inplace = True)"
      ],
      "execution_count": null,
      "outputs": []
    },
    {
      "cell_type": "code",
      "metadata": {
        "colab": {
          "base_uri": "https://localhost:8080/"
        },
        "id": "4U1XM-V2spZ0",
        "outputId": "3bcb38df-e8ca-4a8f-c7fa-b7137344cdbb"
      },
      "source": [
        "print(df)"
      ],
      "execution_count": null,
      "outputs": [
        {
          "output_type": "stream",
          "name": "stdout",
          "text": [
            "      T1   L1   H1   S1   V1   X1   D1  ...   DH1   DH2   DH3  KT  TBM1  TBM2  TBM3\n",
            "STT                                     ...                                        \n",
            "1    7.2  7.3  6.3  7.3  7.0  7.9  7.3  ...  3.25  3.25  4.50  A1  7.00  7.54  7.01\n",
            "2    5.4  3.9  3.9  4.0  5.4  5.4  5.3  ...  6.00  4.00  3.50   C  4.69  5.47  5.07\n",
            "3    5.6  6.8  7.2  7.5  4.3  7.4  5.8  ...  5.00  6.75  4.00   C  5.77  5.38  6.04\n",
            "4    6.6  6.4  5.3  6.9  5.4  7.3  6.4  ...  4.25  4.25  5.25  D1  6.21  5.20  6.88\n",
            "5    6.0  5.0  6.0  7.3  6.5  7.7  7.9  ...  4.25  4.50  5.00   A  6.50  6.36  6.99\n",
            "..   ...  ...  ...  ...  ...  ...  ...  ...   ...   ...   ...  ..   ...   ...   ...\n",
            "96   8.6  6.9  7.4  8.8  7.6  5.8  7.3  ...  5.25  1.50  6.25   C  7.43  7.42  6.83\n",
            "97   3.7  5.4  6.0  5.1  5.5  3.9  6.1  ...  5.25  3.75  4.75   C  4.93  5.15  6.39\n",
            "98   8.8  5.5  7.4  7.7  6.2  7.3  8.1  ...  7.00  8.00  4.00   C  7.05  7.84  7.67\n",
            "99   2.7  1.8  3.4  5.3  4.5  7.9  4.9  ...  5.00  3.50  5.50   C  4.15  4.72  5.29\n",
            "100  4.1  5.2  4.9  5.3  5.5  5.4  7.2  ...  5.25  2.50  4.25   C  5.26  5.72  5.85\n",
            "\n",
            "[100 rows x 58 columns]\n"
          ]
        }
      ]
    },
    {
      "cell_type": "markdown",
      "metadata": {
        "id": "gg8hLZCpuXh2"
      },
      "source": [
        "8.Tạo các biến xếp loại XL1, XL2 và XL3 dựa trên TBM1,TBM2 và TBM3 cho từng năm lớp\n",
        "10, 11, 12 như sau:"
      ]
    },
    {
      "cell_type": "markdown",
      "metadata": {
        "id": "-mVqbBvsuhbc"
      },
      "source": [
        "*   Nhỏ hơn 5.0 xếp loại: yếu (kí hiệu là Y)\n",
        "*   Từ 5.0 đến dưới 6.5: trung bình (kí hiệu là TB)\n",
        "*   Từ 6.5 đến dưới 8.0: khá (kí hiệu là K)\n",
        "*   Từ 8.0 đến dưới 9.0: giỏi (kí hiệu là G)\n",
        "*   Từ 9.0 trở lên: xuất sắc (kí hiệu là XS)"
      ]
    },
    {
      "cell_type": "code",
      "metadata": {
        "id": "NEUdEmoyugcs"
      },
      "source": [
        "for i in ['1','2','3']:\n",
        "  df.loc[df['TBM' + i] < 5, 'XL' + i] = 'Y'\n",
        "  df.loc[(df['TBM'+i] <= 6.5) &(df['TBM'+i] > 5), 'XL' + i] = 'TB'\n",
        "  df.loc[(df['TBM'+i] < 8) &(df['TBM'+i] >= 6.5), 'XL'+i] = 'K' \n",
        "  df.loc[(df['TBM'+i] < 9) &(df['TBM'+i] >=8), 'XL'+i] = 'G' \n",
        "  df.loc[(df['TBM'+i] >= 9), 'XL'+i] = 'XS'"
      ],
      "execution_count": null,
      "outputs": []
    },
    {
      "cell_type": "code",
      "metadata": {
        "colab": {
          "base_uri": "https://localhost:8080/"
        },
        "id": "rVPRlfXXxV_M",
        "outputId": "bfbbcacd-8919-4148-b39d-9e789ac6d0e5"
      },
      "source": [
        "print(df)"
      ],
      "execution_count": null,
      "outputs": [
        {
          "output_type": "stream",
          "name": "stdout",
          "text": [
            "      T1   L1   H1   S1   V1   X1   D1  ...  KT  TBM1  TBM2  TBM3  XL1  XL2  XL3\n",
            "STT                                     ...                                     \n",
            "1    7.2  7.3  6.3  7.3  7.0  7.9  7.3  ...  A1  7.00  7.54  7.01    K    K    K\n",
            "2    5.4  3.9  3.9  4.0  5.4  5.4  5.3  ...   C  4.69  5.47  5.07    Y   TB   TB\n",
            "3    5.6  6.8  7.2  7.5  4.3  7.4  5.8  ...   C  5.77  5.38  6.04   TB   TB   TB\n",
            "4    6.6  6.4  5.3  6.9  5.4  7.3  6.4  ...  D1  6.21  5.20  6.88   TB   TB    K\n",
            "5    6.0  5.0  6.0  7.3  6.5  7.7  7.9  ...   A  6.50  6.36  6.99    K   TB    K\n",
            "..   ...  ...  ...  ...  ...  ...  ...  ...  ..   ...   ...   ...  ...  ...  ...\n",
            "96   8.6  6.9  7.4  8.8  7.6  5.8  7.3  ...   C  7.43  7.42  6.83    K    K    K\n",
            "97   3.7  5.4  6.0  5.1  5.5  3.9  6.1  ...   C  4.93  5.15  6.39    Y   TB   TB\n",
            "98   8.8  5.5  7.4  7.7  6.2  7.3  8.1  ...   C  7.05  7.84  7.67    K    K    K\n",
            "99   2.7  1.8  3.4  5.3  4.5  7.9  4.9  ...   C  4.15  4.72  5.29    Y    Y   TB\n",
            "100  4.1  5.2  4.9  5.3  5.5  5.4  7.2  ...   C  5.26  5.72  5.85   TB   TB   TB\n",
            "\n",
            "[100 rows x 61 columns]\n"
          ]
        }
      ]
    },
    {
      "cell_type": "markdown",
      "metadata": {
        "id": "TgLZqw81xcPz"
      },
      "source": [
        "9.Tạo các biến US_TBM1, US_TBM2 và US_TBM3 để chuyển điểm trung bình các năm lớp\n",
        "10, 11 và 12 từ thang điểm 10 của Việt Nam sang thang điểm 4 của Mỹ. Sử dụng phương\n",
        "pháp Min-Max Normalization"
      ]
    },
    {
      "cell_type": "code",
      "metadata": {
        "id": "jOcQwKO_xdXE"
      },
      "source": [
        "for i in [\"1\",\"2\",\"3\"]:\n",
        "    df[\"US_TBM\"+i] = (df[\"TBM\"+i]/10) *4"
      ],
      "execution_count": null,
      "outputs": []
    },
    {
      "cell_type": "code",
      "metadata": {
        "colab": {
          "base_uri": "https://localhost:8080/"
        },
        "id": "cwfUR_8dxunk",
        "outputId": "3f798d4b-0e12-4139-97ca-2b11126478e6"
      },
      "source": [
        "print(df)"
      ],
      "execution_count": null,
      "outputs": [
        {
          "output_type": "stream",
          "name": "stdout",
          "text": [
            "      T1   L1   H1   S1   V1   X1  ...  XL1  XL2  XL3  US_TBM1  US_TBM2  US_TBM3\n",
            "STT                                ...                                          \n",
            "1    7.2  7.3  6.3  7.3  7.0  7.9  ...    K    K    K    2.800    3.016    2.804\n",
            "2    5.4  3.9  3.9  4.0  5.4  5.4  ...    Y   TB   TB    1.876    2.188    2.028\n",
            "3    5.6  6.8  7.2  7.5  4.3  7.4  ...   TB   TB   TB    2.308    2.152    2.416\n",
            "4    6.6  6.4  5.3  6.9  5.4  7.3  ...   TB   TB    K    2.484    2.080    2.752\n",
            "5    6.0  5.0  6.0  7.3  6.5  7.7  ...    K   TB    K    2.600    2.544    2.796\n",
            "..   ...  ...  ...  ...  ...  ...  ...  ...  ...  ...      ...      ...      ...\n",
            "96   8.6  6.9  7.4  8.8  7.6  5.8  ...    K    K    K    2.972    2.968    2.732\n",
            "97   3.7  5.4  6.0  5.1  5.5  3.9  ...    Y   TB   TB    1.972    2.060    2.556\n",
            "98   8.8  5.5  7.4  7.7  6.2  7.3  ...    K    K    K    2.820    3.136    3.068\n",
            "99   2.7  1.8  3.4  5.3  4.5  7.9  ...    Y    Y   TB    1.660    1.888    2.116\n",
            "100  4.1  5.2  4.9  5.3  5.5  5.4  ...   TB   TB   TB    2.104    2.288    2.340\n",
            "\n",
            "[100 rows x 64 columns]\n"
          ]
        }
      ]
    },
    {
      "cell_type": "markdown",
      "metadata": {
        "id": "J5fX2rEHza2E"
      },
      "source": [
        "10.Tạo biến kết quả xét tuyển (kí hiệu là KQXT) nhằm xác định sinh viên đậu (giá trị \"1\") và\n",
        "rớt ( giá trị \"0\") vào các khối dựa trên điểm DH1, DH2 và DH3 như sau"
      ]
    },
    {
      "cell_type": "markdown",
      "metadata": {
        "id": "1_-SqYwwzfVq"
      },
      "source": [
        "\n",
        "\n",
        "*   Với khối A, A1 nếu [(DH1*2 + DH2 + DH3)/4] lớn hơn hoặc bằng 5.0 thì đậu,\n",
        "ngược lại là rớt\n",
        "*   Với khối B nếu [(DH1 + DH2*2 + DH3)/4] lớn hơn hoặc bằng 5.0 thì đậu, ngược\n",
        "lại là rớt\n",
        "\n",
        "*   Với khối khác nếu [(DH1+ DH2 + DH3)/3] lớn hơn hoặc bằng 5.0 thì đậu, ngược\n",
        "lại là rớt\n",
        "\n",
        "\n",
        "\n"
      ]
    },
    {
      "cell_type": "code",
      "metadata": {
        "id": "thGQDLnezpoZ"
      },
      "source": [
        "for i in df['KT']:\n",
        "  str(i)\n",
        "  df.loc[(i == 'A' or i == 'A1') & ((df['DH1'] * 2 + df['DH2'] + df['DH3']) / 4 >= 5.0), 'KQXT'] = 'đậu'\n",
        "  df.loc[(i == 'A' or i == 'Ađậu') & ((df['DH1'] * 2 + df['DH2'] + df['DH3']) / 4 < 5.0), 'KQXT'] = 'rớt'\n",
        "\n",
        "  df.loc[(i == 'B') & ((df['DH1'] + df['DH2'] * 2 + df['DH3']) / 4 >= 5.0), 'KQXT'] = 'đậu'\n",
        "  df.loc[(i == 'B') & ((df['DH1'] + df['DH2'] * 2 + df['DH3']) / 4 < 5.0), 'KQXT'] = 'rớt'\n",
        "          \n",
        "  df.loc[(i != 'B' and i != 'A' and i != 'A1') & ((df['DH1'] + df['DH2']+ df['DH3']) / 3 >= 5.0), 'KQXT'] = 'đậu'\n",
        "  df.loc[(i != 'B' and i != 'A' and i != 'A1') & ((df['DH1'] + df['DH2']+ df['DH3']) / 3 < 5.0), 'KQXT'] = 'rớt'"
      ],
      "execution_count": null,
      "outputs": []
    },
    {
      "cell_type": "code",
      "metadata": {
        "colab": {
          "base_uri": "https://localhost:8080/"
        },
        "id": "JVZBosfi2R1t",
        "outputId": "e016c807-883d-4ab3-94f8-63edb3f1482e"
      },
      "source": [
        "print(df)"
      ],
      "execution_count": null,
      "outputs": [
        {
          "output_type": "stream",
          "name": "stdout",
          "text": [
            "      T1   L1   H1   S1   V1   X1  ...  XL2  XL3  US_TBM1  US_TBM2  US_TBM3  KQXT\n",
            "STT                                ...                                           \n",
            "1    7.2  7.3  6.3  7.3  7.0  7.9  ...    K    K    2.800    3.016    2.804   rớt\n",
            "2    5.4  3.9  3.9  4.0  5.4  5.4  ...   TB   TB    1.876    2.188    2.028   rớt\n",
            "3    5.6  6.8  7.2  7.5  4.3  7.4  ...   TB   TB    2.308    2.152    2.416   đậu\n",
            "4    6.6  6.4  5.3  6.9  5.4  7.3  ...   TB    K    2.484    2.080    2.752   rớt\n",
            "5    6.0  5.0  6.0  7.3  6.5  7.7  ...   TB    K    2.600    2.544    2.796   rớt\n",
            "..   ...  ...  ...  ...  ...  ...  ...  ...  ...      ...      ...      ...   ...\n",
            "96   8.6  6.9  7.4  8.8  7.6  5.8  ...    K    K    2.972    2.968    2.732   rớt\n",
            "97   3.7  5.4  6.0  5.1  5.5  3.9  ...   TB   TB    1.972    2.060    2.556   rớt\n",
            "98   8.8  5.5  7.4  7.7  6.2  7.3  ...    K    K    2.820    3.136    3.068   đậu\n",
            "99   2.7  1.8  3.4  5.3  4.5  7.9  ...    Y   TB    1.660    1.888    2.116   rớt\n",
            "100  4.1  5.2  4.9  5.3  5.5  5.4  ...   TB   TB    2.104    2.288    2.340   rớt\n",
            "\n",
            "[100 rows x 65 columns]\n"
          ]
        }
      ]
    },
    {
      "cell_type": "markdown",
      "metadata": {
        "id": "tZQXtVxx4Wak"
      },
      "source": [
        "11.Lưu trữ dữ liệu xuống ổ đĩa thành file processed_dulieuxettuyendaihoc.csv"
      ]
    },
    {
      "cell_type": "code",
      "metadata": {
        "colab": {
          "base_uri": "https://localhost:8080/"
        },
        "id": "D83ugTck4TA8",
        "outputId": "fb6ccb4f-a8b0-4071-82c3-851c7c34192a"
      },
      "source": [
        "from google.colab import drive\n",
        "drive.mount('/drive')"
      ],
      "execution_count": null,
      "outputs": [
        {
          "output_type": "stream",
          "name": "stdout",
          "text": [
            "Mounted at /drive\n"
          ]
        }
      ]
    },
    {
      "cell_type": "code",
      "metadata": {
        "id": "t5tNLQ0n4YhI"
      },
      "source": [
        "df.to_csv('/drive/My Drive/DataAnalyst/processed_dulieuxettuyendaihoc.csv')"
      ],
      "execution_count": null,
      "outputs": []
    }
  ]
}